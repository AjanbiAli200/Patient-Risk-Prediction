{
 "cells": [
  {
   "cell_type": "markdown",
   "metadata": {
    "application/vnd.databricks.v1+cell": {
     "cellMetadata": {},
     "inputWidgets": {},
     "nuid": "5bb8927e-4dd5-45c2-9e2a-2d604062be7f",
     "showTitle": false,
     "tableResultSettingsMap": {},
     "title": ""
    }
   },
   "source": [
    "##### **Databricks Bronze Layer:** Read .CSV from volume healthcare_dataset in bronze schema"
   ]
  },
  {
   "cell_type": "code",
   "execution_count": 0,
   "metadata": {
    "application/vnd.databricks.v1+cell": {
     "cellMetadata": {
      "byteLimit": 2048000,
      "rowLimit": 10000
     },
     "inputWidgets": {},
     "nuid": "569b3e8a-a140-4501-9eac-3ee7505a4f3c",
     "showTitle": false,
     "tableResultSettingsMap": {},
     "title": ""
    }
   },
   "outputs": [],
   "source": [
    "from pyspark.sql import SparkSession"
   ]
  },
  {
   "cell_type": "markdown",
   "metadata": {
    "application/vnd.databricks.v1+cell": {
     "cellMetadata": {},
     "inputWidgets": {},
     "nuid": "8e1687b9-9427-4aba-8dbf-70185345d55b",
     "showTitle": false,
     "tableResultSettingsMap": {},
     "title": ""
    }
   },
   "source": [
    "#### **Define your single entity**"
   ]
  },
  {
   "cell_type": "code",
   "execution_count": 0,
   "metadata": {
    "application/vnd.databricks.v1+cell": {
     "cellMetadata": {
      "byteLimit": 2048000,
      "rowLimit": 10000
     },
     "inputWidgets": {},
     "nuid": "398ca3e9-37a3-4b68-bc4e-80039a5d55bb",
     "showTitle": false,
     "tableResultSettingsMap": {},
     "title": ""
    }
   },
   "outputs": [],
   "source": [
    "entity = \"healthcare\""
   ]
  },
  {
   "cell_type": "markdown",
   "metadata": {
    "application/vnd.databricks.v1+cell": {
     "cellMetadata": {},
     "inputWidgets": {},
     "nuid": "269039ae-1399-4939-b5d2-0245d5eeb510",
     "showTitle": false,
     "tableResultSettingsMap": {},
     "title": ""
    }
   },
   "source": [
    "#### **Static (batch) read to infer schema**"
   ]
  },
  {
   "cell_type": "code",
   "execution_count": 0,
   "metadata": {
    "application/vnd.databricks.v1+cell": {
     "cellMetadata": {
      "byteLimit": 2048000,
      "rowLimit": 10000
     },
     "inputWidgets": {},
     "nuid": "7465d3bc-333b-4d39-af39-8e9749235aab",
     "showTitle": false,
     "tableResultSettingsMap": {},
     "title": ""
    }
   },
   "outputs": [],
   "source": [
    "df_batch = (\n",
    "    spark.read.format(\"csv\")\n",
    "    .option(\"header\", True)\n",
    "    .option(\"inferSchema\", True)\n",
    "    .load(f\"/Volumes/Patient_Risk_Prediction/bronze/healthcare_dataset/\")\n",
    ")"
   ]
  },
  {
   "cell_type": "markdown",
   "metadata": {
    "application/vnd.databricks.v1+cell": {
     "cellMetadata": {},
     "inputWidgets": {},
     "nuid": "d5197706-d0ed-4c0d-9eaa-d5f4d3299564",
     "showTitle": false,
     "tableResultSettingsMap": {},
     "title": ""
    }
   },
   "source": [
    "### **Clean column names**"
   ]
  },
  {
   "cell_type": "code",
   "execution_count": 0,
   "metadata": {
    "application/vnd.databricks.v1+cell": {
     "cellMetadata": {
      "byteLimit": 2048000,
      "rowLimit": 10000
     },
     "inputWidgets": {},
     "nuid": "cc11473b-00e3-431c-80d0-fd37c102350a",
     "showTitle": false,
     "tableResultSettingsMap": {},
     "title": ""
    }
   },
   "outputs": [],
   "source": [
    "def clean_column(col_name):\n",
    "    return col_name.strip().lower().replace(\" \", \"_\").replace(\"-\", \"_\").replace(\"/\", \"_\")\n",
    "\n",
    "df_batch = df_batch.toDF(*[clean_column(c) for c in df_batch.columns])"
   ]
  },
  {
   "cell_type": "markdown",
   "metadata": {
    "application/vnd.databricks.v1+cell": {
     "cellMetadata": {},
     "inputWidgets": {},
     "nuid": "b4d8ac4f-33a3-4e6c-bf31-ad2641a20a77",
     "showTitle": false,
     "tableResultSettingsMap": {},
     "title": ""
    }
   },
   "source": [
    "#### **Capture the inferred schema**"
   ]
  },
  {
   "cell_type": "code",
   "execution_count": 0,
   "metadata": {
    "application/vnd.databricks.v1+cell": {
     "cellMetadata": {
      "byteLimit": 2048000,
      "rowLimit": 10000
     },
     "inputWidgets": {},
     "nuid": "b19a0b36-6b5f-4904-9093-1ab98a5129c5",
     "showTitle": false,
     "tableResultSettingsMap": {},
     "title": ""
    }
   },
   "outputs": [],
   "source": [
    "schema_entity = df_batch.schema"
   ]
  },
  {
   "cell_type": "markdown",
   "metadata": {
    "application/vnd.databricks.v1+cell": {
     "cellMetadata": {},
     "inputWidgets": {},
     "nuid": "af9db7b7-a2ae-4f98-8bc8-422b5089c0a1",
     "showTitle": false,
     "tableResultSettingsMap": {},
     "title": ""
    }
   },
   "source": [
    "#### **Now create a streaming DataFrame (structured streaming)**"
   ]
  },
  {
   "cell_type": "code",
   "execution_count": 0,
   "metadata": {
    "application/vnd.databricks.v1+cell": {
     "cellMetadata": {
      "byteLimit": 2048000,
      "rowLimit": 10000
     },
     "inputWidgets": {},
     "nuid": "c7860822-6e2b-47cb-95e7-0b4546cd04b8",
     "showTitle": false,
     "tableResultSettingsMap": {},
     "title": ""
    }
   },
   "outputs": [],
   "source": [
    "df_stream = (\n",
    "    spark.readStream.format(\"csv\")\n",
    "    .option(\"header\", True)\n",
    "    .schema(schema_entity)\n",
    "    .load(f\"/Volumes/Patient_Risk_Prediction/bronze/healthcare_dataset/\")\n",
    ")"
   ]
  },
  {
   "cell_type": "markdown",
   "metadata": {
    "application/vnd.databricks.v1+cell": {
     "cellMetadata": {},
     "inputWidgets": {},
     "nuid": "80b7bb17-a60f-44a2-be84-7480d3297a0c",
     "showTitle": false,
     "tableResultSettingsMap": {},
     "title": ""
    }
   },
   "source": [
    "#### **Write to Bronze Delta Table (append mode, once trigger)**"
   ]
  },
  {
   "cell_type": "code",
   "execution_count": 0,
   "metadata": {
    "application/vnd.databricks.v1+cell": {
     "cellMetadata": {
      "byteLimit": 2048000,
      "rowLimit": 10000
     },
     "inputWidgets": {},
     "nuid": "149fcbb6-c07f-4bfa-b6ea-363b15ed0f0a",
     "showTitle": false,
     "tableResultSettingsMap": {},
     "title": ""
    }
   },
   "outputs": [
    {
     "output_type": "execute_result",
     "data": {
      "text/plain": [
       "<pyspark.sql.connect.streaming.query.StreamingQuery at 0xffe8d77b7ec0>"
      ]
     },
     "execution_count": 28,
     "metadata": {},
     "output_type": "execute_result"
    }
   ],
   "source": [
    "(\n",
    "    df_stream.writeStream.format(\"delta\")\n",
    "    .outputMode(\"append\")\n",
    "    .option(\"checkpointLocation\", f\"/Volumes/Patient_Risk_Prediction/bronze/healthcare_dataset/{entity}\")\n",
    "    .trigger(once=True)\n",
    "    .toTable(f\"Patient_Risk_Prediction.bronze.{entity}\")\n",
    ")"
   ]
  },
  {
   "cell_type": "code",
   "execution_count": 0,
   "metadata": {
    "application/vnd.databricks.v1+cell": {
     "cellMetadata": {
      "byteLimit": 2048000,
      "rowLimit": 10000
     },
     "inputWidgets": {},
     "nuid": "88a72c0f-6a2b-4e3c-a6f8-408d4637fef5",
     "showTitle": false,
     "tableResultSettingsMap": {},
     "title": ""
    }
   },
   "outputs": [
    {
     "output_type": "stream",
     "name": "stdout",
     "output_type": "stream",
     "text": [
      "✅ Bronze table created successfully: Patient_Risk_Prediction.bronze.healthcare\n"
     ]
    }
   ],
   "source": [
    "print(f\"✅ Bronze table created successfully: Patient_Risk_Prediction.bronze.{entity}\")"
   ]
  },
  {
   "cell_type": "code",
   "execution_count": 0,
   "metadata": {
    "application/vnd.databricks.v1+cell": {
     "cellMetadata": {
      "byteLimit": 2048000,
      "implicitDf": true,
      "rowLimit": 10000
     },
     "collapsed": true,
     "inputWidgets": {},
     "nuid": "ddae3620-d2d7-43a7-af79-c9251b6302ba",
     "showTitle": false,
     "tableResultSettingsMap": {},
     "title": ""
    }
   },
   "outputs": [
    {
     "output_type": "display_data",
     "data": {
      "text/html": [
       "<style scoped>\n",
       "  .table-result-container {\n",
       "    max-height: 300px;\n",
       "    overflow: auto;\n",
       "  }\n",
       "  table, th, td {\n",
       "    border: 1px solid black;\n",
       "    border-collapse: collapse;\n",
       "  }\n",
       "  th, td {\n",
       "    padding: 5px;\n",
       "  }\n",
       "  th {\n",
       "    text-align: left;\n",
       "  }\n",
       "</style><div class='table-result-container'><table class='table-result'><thead style='background-color: white'><tr><th>COUNT(*)</th></tr></thead><tbody><tr><td>55500</td></tr></tbody></table></div>"
      ]
     },
     "metadata": {
      "application/vnd.databricks.v1+output": {
       "addedWidgets": {},
       "aggData": [],
       "aggError": "",
       "aggOverflow": false,
       "aggSchema": [],
       "aggSeriesLimitReached": false,
       "aggType": "",
       "arguments": {},
       "columnCustomDisplayInfos": {},
       "data": [
        [
         55500
        ]
       ],
       "datasetInfos": [
        {
         "name": "_sqldf",
         "schema": {
          "fields": [
           {
            "metadata": {},
            "name": "COUNT(*)",
            "nullable": false,
            "type": "long"
           }
          ],
          "type": "struct"
         },
         "tableIdentifier": null,
         "typeStr": "pyspark.sql.connect.dataframe.DataFrame"
        }
       ],
       "dbfsResultPath": null,
       "isJsonSchema": true,
       "metadata": {
        "createTempViewForImplicitDf": true,
        "dataframeName": "_sqldf",
        "executionCount": 30
       },
       "overflow": false,
       "plotOptions": {
        "customPlotOptions": {},
        "displayType": "table",
        "pivotAggregation": null,
        "pivotColumns": null,
        "xColumns": null,
        "yColumns": null
       },
       "removedWidgets": [],
       "schema": [
        {
         "metadata": "{}",
         "name": "COUNT(*)",
         "type": "\"long\""
        }
       ],
       "type": "table"
      }
     },
     "output_type": "display_data"
    }
   ],
   "source": [
    "%sql\n",
    "SELECT COUNT(*) FROM Patient_Risk_Prediction.bronze.healthcare;"
   ]
  },
  {
   "cell_type": "code",
   "execution_count": 0,
   "metadata": {
    "application/vnd.databricks.v1+cell": {
     "cellMetadata": {
      "byteLimit": 2048000,
      "implicitDf": true,
      "rowLimit": 10000
     },
     "collapsed": true,
     "inputWidgets": {},
     "nuid": "0f20508d-48f3-4c1f-8ecc-332b6628f17c",
     "showTitle": false,
     "tableResultSettingsMap": {},
     "title": ""
    }
   },
   "outputs": [
    {
     "output_type": "display_data",
     "data": {
      "text/html": [
       "<style scoped>\n",
       "  .table-result-container {\n",
       "    max-height: 300px;\n",
       "    overflow: auto;\n",
       "  }\n",
       "  table, th, td {\n",
       "    border: 1px solid black;\n",
       "    border-collapse: collapse;\n",
       "  }\n",
       "  th, td {\n",
       "    padding: 5px;\n",
       "  }\n",
       "  th {\n",
       "    text-align: left;\n",
       "  }\n",
       "</style><div class='table-result-container'><table class='table-result'><thead style='background-color: white'><tr><th>name</th><th>age</th><th>gender</th><th>blood_type</th><th>medical_condition</th><th>date_of_admission</th><th>doctor</th><th>hospital</th><th>insurance_provider</th><th>billing_amount</th><th>room_number</th><th>admission_type</th><th>discharge_date</th><th>medication</th><th>test_results</th></tr></thead><tbody><tr><td>Bobby JacksOn</td><td>30</td><td>Male</td><td>B-</td><td>Cancer</td><td>2024-01-31</td><td>Matthew Smith</td><td>Sons and Miller</td><td>Blue Cross</td><td>18856.281305978155</td><td>328</td><td>Urgent</td><td>2024-02-02</td><td>Paracetamol</td><td>Normal</td></tr><tr><td>LesLie TErRy</td><td>62</td><td>Male</td><td>A+</td><td>Obesity</td><td>2019-08-20</td><td>Samantha Davies</td><td>Kim Inc</td><td>Medicare</td><td>33643.327286577885</td><td>265</td><td>Emergency</td><td>2019-08-26</td><td>Ibuprofen</td><td>Inconclusive</td></tr><tr><td>DaNnY sMitH</td><td>76</td><td>Female</td><td>A-</td><td>Obesity</td><td>2022-09-22</td><td>Tiffany Mitchell</td><td>Cook PLC</td><td>Aetna</td><td>27955.096078842456</td><td>205</td><td>Emergency</td><td>2022-10-07</td><td>Aspirin</td><td>Normal</td></tr><tr><td>andrEw waTtS</td><td>28</td><td>Female</td><td>O+</td><td>Diabetes</td><td>2020-11-18</td><td>Kevin Wells</td><td>Hernandez Rogers and Vang,</td><td>Medicare</td><td>37909.78240987528</td><td>450</td><td>Elective</td><td>2020-12-18</td><td>Ibuprofen</td><td>Abnormal</td></tr><tr><td>adrIENNE bEll</td><td>43</td><td>Female</td><td>AB+</td><td>Cancer</td><td>2022-09-19</td><td>Kathleen Hanna</td><td>White-White</td><td>Aetna</td><td>14238.317813937623</td><td>458</td><td>Urgent</td><td>2022-10-09</td><td>Penicillin</td><td>Abnormal</td></tr><tr><td>EMILY JOHNSOn</td><td>36</td><td>Male</td><td>A+</td><td>Asthma</td><td>2023-12-20</td><td>Taylor Newton</td><td>Nunez-Humphrey</td><td>UnitedHealthcare</td><td>48145.11095104189</td><td>389</td><td>Urgent</td><td>2023-12-24</td><td>Ibuprofen</td><td>Normal</td></tr><tr><td>edwArD EDWaRDs</td><td>21</td><td>Female</td><td>AB-</td><td>Diabetes</td><td>2020-11-03</td><td>Kelly Olson</td><td>Group Middleton</td><td>Medicare</td><td>19580.87234486093</td><td>389</td><td>Emergency</td><td>2020-11-15</td><td>Paracetamol</td><td>Inconclusive</td></tr><tr><td>CHrisTInA MARtinez</td><td>20</td><td>Female</td><td>A+</td><td>Cancer</td><td>2021-12-28</td><td>Suzanne Thomas</td><td>Powell Robinson and Valdez,</td><td>Cigna</td><td>45820.46272159459</td><td>277</td><td>Emergency</td><td>2022-01-07</td><td>Paracetamol</td><td>Inconclusive</td></tr><tr><td>JASmINe aGuIlaR</td><td>82</td><td>Male</td><td>AB+</td><td>Asthma</td><td>2020-07-01</td><td>Daniel Ferguson</td><td>Sons Rich and</td><td>Cigna</td><td>50119.222791548505</td><td>316</td><td>Elective</td><td>2020-07-14</td><td>Aspirin</td><td>Abnormal</td></tr><tr><td>ChRISTopher BerG</td><td>58</td><td>Female</td><td>AB-</td><td>Cancer</td><td>2021-05-23</td><td>Heather Day</td><td>Padilla-Walker</td><td>UnitedHealthcare</td><td>19784.63106221073</td><td>249</td><td>Elective</td><td>2021-06-22</td><td>Paracetamol</td><td>Inconclusive</td></tr></tbody></table></div>"
      ]
     },
     "metadata": {
      "application/vnd.databricks.v1+output": {
       "addedWidgets": {},
       "aggData": [],
       "aggError": "",
       "aggOverflow": false,
       "aggSchema": [],
       "aggSeriesLimitReached": false,
       "aggType": "",
       "arguments": {},
       "columnCustomDisplayInfos": {},
       "data": [
        [
         "Bobby JacksOn",
         30,
         "Male",
         "B-",
         "Cancer",
         "2024-01-31",
         "Matthew Smith",
         "Sons and Miller",
         "Blue Cross",
         18856.281305978155,
         328,
         "Urgent",
         "2024-02-02",
         "Paracetamol",
         "Normal"
        ],
        [
         "LesLie TErRy",
         62,
         "Male",
         "A+",
         "Obesity",
         "2019-08-20",
         "Samantha Davies",
         "Kim Inc",
         "Medicare",
         33643.327286577885,
         265,
         "Emergency",
         "2019-08-26",
         "Ibuprofen",
         "Inconclusive"
        ],
        [
         "DaNnY sMitH",
         76,
         "Female",
         "A-",
         "Obesity",
         "2022-09-22",
         "Tiffany Mitchell",
         "Cook PLC",
         "Aetna",
         27955.096078842456,
         205,
         "Emergency",
         "2022-10-07",
         "Aspirin",
         "Normal"
        ],
        [
         "andrEw waTtS",
         28,
         "Female",
         "O+",
         "Diabetes",
         "2020-11-18",
         "Kevin Wells",
         "Hernandez Rogers and Vang,",
         "Medicare",
         37909.78240987528,
         450,
         "Elective",
         "2020-12-18",
         "Ibuprofen",
         "Abnormal"
        ],
        [
         "adrIENNE bEll",
         43,
         "Female",
         "AB+",
         "Cancer",
         "2022-09-19",
         "Kathleen Hanna",
         "White-White",
         "Aetna",
         14238.317813937623,
         458,
         "Urgent",
         "2022-10-09",
         "Penicillin",
         "Abnormal"
        ],
        [
         "EMILY JOHNSOn",
         36,
         "Male",
         "A+",
         "Asthma",
         "2023-12-20",
         "Taylor Newton",
         "Nunez-Humphrey",
         "UnitedHealthcare",
         48145.11095104189,
         389,
         "Urgent",
         "2023-12-24",
         "Ibuprofen",
         "Normal"
        ],
        [
         "edwArD EDWaRDs",
         21,
         "Female",
         "AB-",
         "Diabetes",
         "2020-11-03",
         "Kelly Olson",
         "Group Middleton",
         "Medicare",
         19580.87234486093,
         389,
         "Emergency",
         "2020-11-15",
         "Paracetamol",
         "Inconclusive"
        ],
        [
         "CHrisTInA MARtinez",
         20,
         "Female",
         "A+",
         "Cancer",
         "2021-12-28",
         "Suzanne Thomas",
         "Powell Robinson and Valdez,",
         "Cigna",
         45820.46272159459,
         277,
         "Emergency",
         "2022-01-07",
         "Paracetamol",
         "Inconclusive"
        ],
        [
         "JASmINe aGuIlaR",
         82,
         "Male",
         "AB+",
         "Asthma",
         "2020-07-01",
         "Daniel Ferguson",
         "Sons Rich and",
         "Cigna",
         50119.222791548505,
         316,
         "Elective",
         "2020-07-14",
         "Aspirin",
         "Abnormal"
        ],
        [
         "ChRISTopher BerG",
         58,
         "Female",
         "AB-",
         "Cancer",
         "2021-05-23",
         "Heather Day",
         "Padilla-Walker",
         "UnitedHealthcare",
         19784.63106221073,
         249,
         "Elective",
         "2021-06-22",
         "Paracetamol",
         "Inconclusive"
        ]
       ],
       "datasetInfos": [
        {
         "name": "_sqldf",
         "schema": {
          "fields": [
           {
            "metadata": {},
            "name": "name",
            "nullable": true,
            "type": "string"
           },
           {
            "metadata": {},
            "name": "age",
            "nullable": true,
            "type": "integer"
           },
           {
            "metadata": {},
            "name": "gender",
            "nullable": true,
            "type": "string"
           },
           {
            "metadata": {},
            "name": "blood_type",
            "nullable": true,
            "type": "string"
           },
           {
            "metadata": {},
            "name": "medical_condition",
            "nullable": true,
            "type": "string"
           },
           {
            "metadata": {
             "__detected_date_formats": "yyyy-M-d"
            },
            "name": "date_of_admission",
            "nullable": true,
            "type": "date"
           },
           {
            "metadata": {},
            "name": "doctor",
            "nullable": true,
            "type": "string"
           },
           {
            "metadata": {},
            "name": "hospital",
            "nullable": true,
            "type": "string"
           },
           {
            "metadata": {},
            "name": "insurance_provider",
            "nullable": true,
            "type": "string"
           },
           {
            "metadata": {},
            "name": "billing_amount",
            "nullable": true,
            "type": "double"
           },
           {
            "metadata": {},
            "name": "room_number",
            "nullable": true,
            "type": "integer"
           },
           {
            "metadata": {},
            "name": "admission_type",
            "nullable": true,
            "type": "string"
           },
           {
            "metadata": {
             "__detected_date_formats": "yyyy-M-d"
            },
            "name": "discharge_date",
            "nullable": true,
            "type": "date"
           },
           {
            "metadata": {},
            "name": "medication",
            "nullable": true,
            "type": "string"
           },
           {
            "metadata": {},
            "name": "test_results",
            "nullable": true,
            "type": "string"
           }
          ],
          "type": "struct"
         },
         "tableIdentifier": null,
         "typeStr": "pyspark.sql.connect.dataframe.DataFrame"
        }
       ],
       "dbfsResultPath": null,
       "isJsonSchema": true,
       "metadata": {
        "createTempViewForImplicitDf": true,
        "dataframeName": "_sqldf",
        "executionCount": 31
       },
       "overflow": false,
       "plotOptions": {
        "customPlotOptions": {},
        "displayType": "table",
        "pivotAggregation": null,
        "pivotColumns": null,
        "xColumns": null,
        "yColumns": null
       },
       "removedWidgets": [],
       "schema": [
        {
         "metadata": "{}",
         "name": "name",
         "type": "\"string\""
        },
        {
         "metadata": "{}",
         "name": "age",
         "type": "\"integer\""
        },
        {
         "metadata": "{}",
         "name": "gender",
         "type": "\"string\""
        },
        {
         "metadata": "{}",
         "name": "blood_type",
         "type": "\"string\""
        },
        {
         "metadata": "{}",
         "name": "medical_condition",
         "type": "\"string\""
        },
        {
         "metadata": "{\"__detected_date_formats\": \"yyyy-M-d\"}",
         "name": "date_of_admission",
         "type": "\"date\""
        },
        {
         "metadata": "{}",
         "name": "doctor",
         "type": "\"string\""
        },
        {
         "metadata": "{}",
         "name": "hospital",
         "type": "\"string\""
        },
        {
         "metadata": "{}",
         "name": "insurance_provider",
         "type": "\"string\""
        },
        {
         "metadata": "{}",
         "name": "billing_amount",
         "type": "\"double\""
        },
        {
         "metadata": "{}",
         "name": "room_number",
         "type": "\"integer\""
        },
        {
         "metadata": "{}",
         "name": "admission_type",
         "type": "\"string\""
        },
        {
         "metadata": "{\"__detected_date_formats\": \"yyyy-M-d\"}",
         "name": "discharge_date",
         "type": "\"date\""
        },
        {
         "metadata": "{}",
         "name": "medication",
         "type": "\"string\""
        },
        {
         "metadata": "{}",
         "name": "test_results",
         "type": "\"string\""
        }
       ],
       "type": "table"
      }
     },
     "output_type": "display_data"
    }
   ],
   "source": [
    "%sql\n",
    "SELECT * FROM Patient_Risk_Prediction.bronze.healthcare LIMIT 10;"
   ]
  }
 ],
 "metadata": {
  "application/vnd.databricks.v1+notebook": {
   "computePreferences": null,
   "dashboards": [],
   "environmentMetadata": {
    "base_environment": "",
    "environment_version": "4"
   },
   "inputWidgetPreferences": null,
   "language": "python",
   "notebookMetadata": {
    "mostRecentlyExecutedCommandWithImplicitDF": {
     "commandId": 6547771206526257,
     "dataframes": [
      "_sqldf"
     ]
    },
    "pythonIndentUnit": 4
   },
   "notebookName": "1_bronze_ingest",
   "widgets": {}
  },
  "language_info": {
   "name": "python"
  }
 },
 "nbformat": 4,
 "nbformat_minor": 0
}