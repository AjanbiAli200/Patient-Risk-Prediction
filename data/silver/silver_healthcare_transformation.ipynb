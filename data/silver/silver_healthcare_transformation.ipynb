{
 "cells": [
  {
   "cell_type": "code",
   "execution_count": 0,
   "metadata": {
    "application/vnd.databricks.v1+cell": {
     "cellMetadata": {
      "byteLimit": 2048000,
      "rowLimit": 10000
     },
     "inputWidgets": {},
     "nuid": "2dc27c2f-e46a-4baa-81fb-44120c1e5370",
     "showTitle": false,
     "tableResultSettingsMap": {},
     "title": ""
    }
   },
   "outputs": [],
   "source": [
    "from pyspark.sql import functions as F"
   ]
  },
  {
   "cell_type": "markdown",
   "metadata": {
    "application/vnd.databricks.v1+cell": {
     "cellMetadata": {},
     "inputWidgets": {},
     "nuid": "1fffff37-7928-4cb2-873b-cf8f271cba21",
     "showTitle": false,
     "tableResultSettingsMap": {},
     "title": ""
    }
   },
   "source": [
    "#### **Read data from Bronze**"
   ]
  },
  {
   "cell_type": "code",
   "execution_count": 0,
   "metadata": {
    "application/vnd.databricks.v1+cell": {
     "cellMetadata": {
      "byteLimit": 2048000,
      "rowLimit": 10000
     },
     "inputWidgets": {},
     "nuid": "4a4661d8-6cf4-4746-b1a1-833716ab430c",
     "showTitle": false,
     "tableResultSettingsMap": {},
     "title": ""
    }
   },
   "outputs": [],
   "source": [
    "df_bronze = spark.table(\"Patient_Risk_Prediction.bronze.healthcare\")"
   ]
  },
  {
   "cell_type": "markdown",
   "metadata": {
    "application/vnd.databricks.v1+cell": {
     "cellMetadata": {},
     "inputWidgets": {},
     "nuid": "1862f409-bf47-44b2-815f-49f76961525d",
     "showTitle": false,
     "tableResultSettingsMap": {},
     "title": ""
    }
   },
   "source": [
    "#### **Clean and standardize data**"
   ]
  },
  {
   "cell_type": "code",
   "execution_count": 0,
   "metadata": {
    "application/vnd.databricks.v1+cell": {
     "cellMetadata": {
      "byteLimit": 2048000,
      "rowLimit": 10000
     },
     "inputWidgets": {},
     "nuid": "05cb346f-4e6e-4d85-95d4-77b6a02acbf1",
     "showTitle": false,
     "tableResultSettingsMap": {},
     "title": ""
    }
   },
   "outputs": [],
   "source": [
    "df_silver = (\n",
    "    df_bronze\n",
    "    # Trim spaces and standardize name formats\n",
    "    .withColumn(\"name\", F.initcap(F.trim(F.col(\"name\"))))\n",
    "    .withColumn(\"gender\", F.upper(F.trim(F.col(\"gender\"))))\n",
    "    .withColumn(\"blood_type\", F.upper(F.trim(F.col(\"blood_type\"))))\n",
    "    .withColumn(\"medical_condition\", F.initcap(F.trim(F.col(\"medical_condition\"))))\n",
    "    .withColumn(\"doctor\", F.initcap(F.trim(F.col(\"doctor\"))))\n",
    "    .withColumn(\"hospital\", F.initcap(F.trim(F.col(\"hospital\"))))\n",
    "    .withColumn(\"insurance_provider\", F.initcap(F.trim(F.col(\"insurance_provider\"))))\n",
    "    .withColumn(\"medication\", F.initcap(F.trim(F.col(\"medication\"))))\n",
    "    .withColumn(\"test_results\", F.initcap(F.trim(F.col(\"test_results\"))))\n",
    "    # Convert date strings to DateType\n",
    "    .withColumn(\"date_of_admission\", F.to_date(\"date_of_admission\", \"yyyy-MM-dd\"))\n",
    "    .withColumn(\"discharge_date\", F.to_date(\"discharge_date\", \"yyyy-MM-dd\"))\n",
    "    # Handle missing/null values\n",
    "    .fillna({\n",
    "        \"gender\": \"UNKNOWN\",\n",
    "        \"blood_type\": \"UNKNOWN\",\n",
    "        \"medical_condition\": \"Not Specified\",\n",
    "        \"doctor\": \"Not Assigned\",\n",
    "        \"hospital\": \"Unknown Hospital\",\n",
    "        \"insurance_provider\": \"Not Provided\",\n",
    "        \"admission_type\": \"Other\",\n",
    "        \"medication\": \"Not Specified\",\n",
    "        \"test_results\": \"Unknown\"\n",
    "    })\n",
    "    # Cast numeric columns properly\n",
    "    .withColumn(\"age\", F.col(\"age\").cast(\"integer\"))\n",
    "    .withColumn(\"billing_amount\", F.col(\"billing_amount\").cast(\"double\"))\n",
    "    .withColumn(\"room_number\", F.col(\"room_number\").cast(\"integer\"))\n",
    "    # Add derived columns\n",
    "    .withColumn(\"stay_duration_days\", F.datediff(F.col(\"discharge_date\"), F.col(\"date_of_admission\")))\n",
    ")"
   ]
  },
  {
   "cell_type": "markdown",
   "metadata": {
    "application/vnd.databricks.v1+cell": {
     "cellMetadata": {},
     "inputWidgets": {},
     "nuid": "96d718d4-e618-46de-a32d-c9c3f5ddbd41",
     "showTitle": false,
     "tableResultSettingsMap": {},
     "title": ""
    }
   },
   "source": [
    "#### **Write cleaned data to Silver Delta Table**"
   ]
  },
  {
   "cell_type": "code",
   "execution_count": 0,
   "metadata": {
    "application/vnd.databricks.v1+cell": {
     "cellMetadata": {
      "byteLimit": 2048000,
      "rowLimit": 10000
     },
     "inputWidgets": {},
     "nuid": "ff2e4ff7-f1a5-4807-9c1d-e37e10ff9f7c",
     "showTitle": false,
     "tableResultSettingsMap": {},
     "title": ""
    }
   },
   "outputs": [
    {
     "output_type": "stream",
     "name": "stdout",
     "output_type": "stream",
     "text": [
      "✅ Silver table 'Patient_Risk_Prediction.silver.healthcare' created successfully.\n"
     ]
    }
   ],
   "source": [
    "(\n",
    "    df_silver.write.format(\"delta\")\n",
    "    .mode(\"overwrite\")\n",
    "    .option(\"overwriteSchema\", \"true\")\n",
    "    .saveAsTable(\"Patient_Risk_Prediction.silver.healthcare\")\n",
    ")\n",
    "\n",
    "print(\"✅ Silver table 'Patient_Risk_Prediction.silver.healthcare' created successfully.\")"
   ]
  },
  {
   "cell_type": "code",
   "execution_count": 0,
   "metadata": {
    "application/vnd.databricks.v1+cell": {
     "cellMetadata": {
      "byteLimit": 2048000,
      "implicitDf": true,
      "rowLimit": 10000
     },
     "inputWidgets": {},
     "nuid": "b40f6f50-e549-4786-b37a-22e4aa5e3ff6",
     "showTitle": false,
     "tableResultSettingsMap": {},
     "title": ""
    }
   },
   "outputs": [
    {
     "output_type": "display_data",
     "data": {
      "text/html": [
       "<style scoped>\n",
       "  .table-result-container {\n",
       "    max-height: 300px;\n",
       "    overflow: auto;\n",
       "  }\n",
       "  table, th, td {\n",
       "    border: 1px solid black;\n",
       "    border-collapse: collapse;\n",
       "  }\n",
       "  th, td {\n",
       "    padding: 5px;\n",
       "  }\n",
       "  th {\n",
       "    text-align: left;\n",
       "  }\n",
       "</style><div class='table-result-container'><table class='table-result'><thead style='background-color: white'><tr><th>name</th><th>age</th><th>gender</th><th>blood_type</th><th>medical_condition</th><th>date_of_admission</th><th>doctor</th><th>hospital</th><th>insurance_provider</th><th>billing_amount</th><th>room_number</th><th>admission_type</th><th>discharge_date</th><th>medication</th><th>test_results</th><th>stay_duration_days</th></tr></thead><tbody><tr><td>Bobby Jackson</td><td>30</td><td>MALE</td><td>B-</td><td>Cancer</td><td>2024-01-31</td><td>Matthew Smith</td><td>Sons And Miller</td><td>Blue Cross</td><td>18856.281305978155</td><td>328</td><td>Urgent</td><td>2024-02-02</td><td>Paracetamol</td><td>Normal</td><td>2</td></tr><tr><td>Leslie Terry</td><td>62</td><td>MALE</td><td>A+</td><td>Obesity</td><td>2019-08-20</td><td>Samantha Davies</td><td>Kim Inc</td><td>Medicare</td><td>33643.327286577885</td><td>265</td><td>Emergency</td><td>2019-08-26</td><td>Ibuprofen</td><td>Inconclusive</td><td>6</td></tr><tr><td>Danny Smith</td><td>76</td><td>FEMALE</td><td>A-</td><td>Obesity</td><td>2022-09-22</td><td>Tiffany Mitchell</td><td>Cook Plc</td><td>Aetna</td><td>27955.096078842456</td><td>205</td><td>Emergency</td><td>2022-10-07</td><td>Aspirin</td><td>Normal</td><td>15</td></tr><tr><td>Andrew Watts</td><td>28</td><td>FEMALE</td><td>O+</td><td>Diabetes</td><td>2020-11-18</td><td>Kevin Wells</td><td>Hernandez Rogers And Vang,</td><td>Medicare</td><td>37909.78240987528</td><td>450</td><td>Elective</td><td>2020-12-18</td><td>Ibuprofen</td><td>Abnormal</td><td>30</td></tr><tr><td>Adrienne Bell</td><td>43</td><td>FEMALE</td><td>AB+</td><td>Cancer</td><td>2022-09-19</td><td>Kathleen Hanna</td><td>White-white</td><td>Aetna</td><td>14238.317813937623</td><td>458</td><td>Urgent</td><td>2022-10-09</td><td>Penicillin</td><td>Abnormal</td><td>20</td></tr><tr><td>Emily Johnson</td><td>36</td><td>MALE</td><td>A+</td><td>Asthma</td><td>2023-12-20</td><td>Taylor Newton</td><td>Nunez-humphrey</td><td>Unitedhealthcare</td><td>48145.11095104189</td><td>389</td><td>Urgent</td><td>2023-12-24</td><td>Ibuprofen</td><td>Normal</td><td>4</td></tr><tr><td>Edward Edwards</td><td>21</td><td>FEMALE</td><td>AB-</td><td>Diabetes</td><td>2020-11-03</td><td>Kelly Olson</td><td>Group Middleton</td><td>Medicare</td><td>19580.87234486093</td><td>389</td><td>Emergency</td><td>2020-11-15</td><td>Paracetamol</td><td>Inconclusive</td><td>12</td></tr><tr><td>Christina Martinez</td><td>20</td><td>FEMALE</td><td>A+</td><td>Cancer</td><td>2021-12-28</td><td>Suzanne Thomas</td><td>Powell Robinson And Valdez,</td><td>Cigna</td><td>45820.46272159459</td><td>277</td><td>Emergency</td><td>2022-01-07</td><td>Paracetamol</td><td>Inconclusive</td><td>10</td></tr><tr><td>Jasmine Aguilar</td><td>82</td><td>MALE</td><td>AB+</td><td>Asthma</td><td>2020-07-01</td><td>Daniel Ferguson</td><td>Sons Rich And</td><td>Cigna</td><td>50119.222791548505</td><td>316</td><td>Elective</td><td>2020-07-14</td><td>Aspirin</td><td>Abnormal</td><td>13</td></tr><tr><td>Christopher Berg</td><td>58</td><td>FEMALE</td><td>AB-</td><td>Cancer</td><td>2021-05-23</td><td>Heather Day</td><td>Padilla-walker</td><td>Unitedhealthcare</td><td>19784.63106221073</td><td>249</td><td>Elective</td><td>2021-06-22</td><td>Paracetamol</td><td>Inconclusive</td><td>30</td></tr></tbody></table></div>"
      ]
     },
     "metadata": {
      "application/vnd.databricks.v1+output": {
       "addedWidgets": {},
       "aggData": [],
       "aggError": "",
       "aggOverflow": false,
       "aggSchema": [],
       "aggSeriesLimitReached": false,
       "aggType": "",
       "arguments": {},
       "columnCustomDisplayInfos": {},
       "data": [
        [
         "Bobby Jackson",
         30,
         "MALE",
         "B-",
         "Cancer",
         "2024-01-31",
         "Matthew Smith",
         "Sons And Miller",
         "Blue Cross",
         18856.281305978155,
         328,
         "Urgent",
         "2024-02-02",
         "Paracetamol",
         "Normal",
         2
        ],
        [
         "Leslie Terry",
         62,
         "MALE",
         "A+",
         "Obesity",
         "2019-08-20",
         "Samantha Davies",
         "Kim Inc",
         "Medicare",
         33643.327286577885,
         265,
         "Emergency",
         "2019-08-26",
         "Ibuprofen",
         "Inconclusive",
         6
        ],
        [
         "Danny Smith",
         76,
         "FEMALE",
         "A-",
         "Obesity",
         "2022-09-22",
         "Tiffany Mitchell",
         "Cook Plc",
         "Aetna",
         27955.096078842456,
         205,
         "Emergency",
         "2022-10-07",
         "Aspirin",
         "Normal",
         15
        ],
        [
         "Andrew Watts",
         28,
         "FEMALE",
         "O+",
         "Diabetes",
         "2020-11-18",
         "Kevin Wells",
         "Hernandez Rogers And Vang,",
         "Medicare",
         37909.78240987528,
         450,
         "Elective",
         "2020-12-18",
         "Ibuprofen",
         "Abnormal",
         30
        ],
        [
         "Adrienne Bell",
         43,
         "FEMALE",
         "AB+",
         "Cancer",
         "2022-09-19",
         "Kathleen Hanna",
         "White-white",
         "Aetna",
         14238.317813937623,
         458,
         "Urgent",
         "2022-10-09",
         "Penicillin",
         "Abnormal",
         20
        ],
        [
         "Emily Johnson",
         36,
         "MALE",
         "A+",
         "Asthma",
         "2023-12-20",
         "Taylor Newton",
         "Nunez-humphrey",
         "Unitedhealthcare",
         48145.11095104189,
         389,
         "Urgent",
         "2023-12-24",
         "Ibuprofen",
         "Normal",
         4
        ],
        [
         "Edward Edwards",
         21,
         "FEMALE",
         "AB-",
         "Diabetes",
         "2020-11-03",
         "Kelly Olson",
         "Group Middleton",
         "Medicare",
         19580.87234486093,
         389,
         "Emergency",
         "2020-11-15",
         "Paracetamol",
         "Inconclusive",
         12
        ],
        [
         "Christina Martinez",
         20,
         "FEMALE",
         "A+",
         "Cancer",
         "2021-12-28",
         "Suzanne Thomas",
         "Powell Robinson And Valdez,",
         "Cigna",
         45820.46272159459,
         277,
         "Emergency",
         "2022-01-07",
         "Paracetamol",
         "Inconclusive",
         10
        ],
        [
         "Jasmine Aguilar",
         82,
         "MALE",
         "AB+",
         "Asthma",
         "2020-07-01",
         "Daniel Ferguson",
         "Sons Rich And",
         "Cigna",
         50119.222791548505,
         316,
         "Elective",
         "2020-07-14",
         "Aspirin",
         "Abnormal",
         13
        ],
        [
         "Christopher Berg",
         58,
         "FEMALE",
         "AB-",
         "Cancer",
         "2021-05-23",
         "Heather Day",
         "Padilla-walker",
         "Unitedhealthcare",
         19784.63106221073,
         249,
         "Elective",
         "2021-06-22",
         "Paracetamol",
         "Inconclusive",
         30
        ]
       ],
       "datasetInfos": [
        {
         "name": "_sqldf",
         "schema": {
          "fields": [
           {
            "metadata": {},
            "name": "name",
            "nullable": true,
            "type": "string"
           },
           {
            "metadata": {},
            "name": "age",
            "nullable": true,
            "type": "integer"
           },
           {
            "metadata": {},
            "name": "gender",
            "nullable": true,
            "type": "string"
           },
           {
            "metadata": {},
            "name": "blood_type",
            "nullable": true,
            "type": "string"
           },
           {
            "metadata": {},
            "name": "medical_condition",
            "nullable": true,
            "type": "string"
           },
           {
            "metadata": {},
            "name": "date_of_admission",
            "nullable": true,
            "type": "date"
           },
           {
            "metadata": {},
            "name": "doctor",
            "nullable": true,
            "type": "string"
           },
           {
            "metadata": {},
            "name": "hospital",
            "nullable": true,
            "type": "string"
           },
           {
            "metadata": {},
            "name": "insurance_provider",
            "nullable": true,
            "type": "string"
           },
           {
            "metadata": {},
            "name": "billing_amount",
            "nullable": true,
            "type": "double"
           },
           {
            "metadata": {},
            "name": "room_number",
            "nullable": true,
            "type": "integer"
           },
           {
            "metadata": {},
            "name": "admission_type",
            "nullable": true,
            "type": "string"
           },
           {
            "metadata": {},
            "name": "discharge_date",
            "nullable": true,
            "type": "date"
           },
           {
            "metadata": {},
            "name": "medication",
            "nullable": true,
            "type": "string"
           },
           {
            "metadata": {},
            "name": "test_results",
            "nullable": true,
            "type": "string"
           },
           {
            "metadata": {},
            "name": "stay_duration_days",
            "nullable": true,
            "type": "integer"
           }
          ],
          "type": "struct"
         },
         "tableIdentifier": null,
         "typeStr": "pyspark.sql.connect.dataframe.DataFrame"
        }
       ],
       "dbfsResultPath": null,
       "isJsonSchema": true,
       "metadata": {
        "createTempViewForImplicitDf": true,
        "dataframeName": "_sqldf",
        "executionCount": 8
       },
       "overflow": false,
       "plotOptions": {
        "customPlotOptions": {},
        "displayType": "table",
        "pivotAggregation": null,
        "pivotColumns": null,
        "xColumns": null,
        "yColumns": null
       },
       "removedWidgets": [],
       "schema": [
        {
         "metadata": "{}",
         "name": "name",
         "type": "\"string\""
        },
        {
         "metadata": "{}",
         "name": "age",
         "type": "\"integer\""
        },
        {
         "metadata": "{}",
         "name": "gender",
         "type": "\"string\""
        },
        {
         "metadata": "{}",
         "name": "blood_type",
         "type": "\"string\""
        },
        {
         "metadata": "{}",
         "name": "medical_condition",
         "type": "\"string\""
        },
        {
         "metadata": "{}",
         "name": "date_of_admission",
         "type": "\"date\""
        },
        {
         "metadata": "{}",
         "name": "doctor",
         "type": "\"string\""
        },
        {
         "metadata": "{}",
         "name": "hospital",
         "type": "\"string\""
        },
        {
         "metadata": "{}",
         "name": "insurance_provider",
         "type": "\"string\""
        },
        {
         "metadata": "{}",
         "name": "billing_amount",
         "type": "\"double\""
        },
        {
         "metadata": "{}",
         "name": "room_number",
         "type": "\"integer\""
        },
        {
         "metadata": "{}",
         "name": "admission_type",
         "type": "\"string\""
        },
        {
         "metadata": "{}",
         "name": "discharge_date",
         "type": "\"date\""
        },
        {
         "metadata": "{}",
         "name": "medication",
         "type": "\"string\""
        },
        {
         "metadata": "{}",
         "name": "test_results",
         "type": "\"string\""
        },
        {
         "metadata": "{}",
         "name": "stay_duration_days",
         "type": "\"integer\""
        }
       ],
       "type": "table"
      }
     },
     "output_type": "display_data"
    }
   ],
   "source": [
    "%sql\n",
    "SELECT * FROM Patient_Risk_Prediction.silver.healthcare LIMIT 10;"
   ]
  }
 ],
 "metadata": {
  "application/vnd.databricks.v1+notebook": {
   "computePreferences": null,
   "dashboards": [],
   "environmentMetadata": {
    "base_environment": "",
    "environment_version": "4"
   },
   "inputWidgetPreferences": null,
   "language": "python",
   "notebookMetadata": {
    "mostRecentlyExecutedCommandWithImplicitDF": {
     "commandId": 6547771206526266,
     "dataframes": [
      "_sqldf"
     ]
    },
    "pythonIndentUnit": 4
   },
   "notebookName": "silver_healthcare_transformation",
   "widgets": {}
  },
  "language_info": {
   "name": "python"
  }
 },
 "nbformat": 4,
 "nbformat_minor": 0
}